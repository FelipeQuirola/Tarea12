{
  "nbformat": 4,
  "nbformat_minor": 0,
  "metadata": {
    "colab": {
      "provenance": []
    },
    "kernelspec": {
      "name": "python3",
      "display_name": "Python 3"
    },
    "language_info": {
      "name": "python"
    }
  },
  "cells": [
    {
      "cell_type": "code",
      "execution_count": 48,
      "metadata": {
        "id": "m1liy4xYRHIV"
      },
      "outputs": [],
      "source": [
        "import numpy as np\n",
        "import matplotlib.pyplot as plt\n",
        "from typing import List, Callable"
      ]
    },
    {
      "cell_type": "markdown",
      "source": [
        "**Literal 1**"
      ],
      "metadata": {
        "id": "y6i9PivAS5OB"
      }
    },
    {
      "cell_type": "code",
      "source": [
        "def euler(f, y0, t0, t_end, h, y_exact_func=None):\n",
        "    t_values = np.arange(t0, t_end + h, h)\n",
        "    y_values = np.zeros(len(t_values))\n",
        "    y_values[0] = y0\n",
        "\n",
        "    print(f\"{'t':>10} {'y_approx':>15} {'y_exact':>15} {'error':>15}\")\n",
        "\n",
        "    for i in range(1, len(t_values)):\n",
        "        y_values[i] = y_values[i - 1] + h * f(t_values[i - 1], y_values[i - 1])\n",
        "        if y_exact_func:\n",
        "            y_exact = y_exact_func(t_values[i])\n",
        "            error = abs(y_exact - y_values[i])\n",
        "            print(f\"{t_values[i]:>10.2f} {y_values[i]:>15.6f} {y_exact:>15.6f} {error:>15.6f}\")\n",
        "        else:\n",
        "            print(f\"{t_values[i]:>10.2f} {y_values[i]:>15.6f}\")\n",
        "\n",
        "    return t_values, y_values"
      ],
      "metadata": {
        "id": "djq9Zv5OSKN2"
      },
      "execution_count": 31,
      "outputs": []
    },
    {
      "cell_type": "markdown",
      "source": [
        "a) $y' = t e^{3t} - 2y , 0 \\leq t \\leq 1 ,  y(0) = 0$, con $ h = 0.5 $"
      ],
      "metadata": {
        "id": "FEJsbx8MSsjM"
      }
    },
    {
      "cell_type": "code",
      "source": [
        "def f_a(t, y):\n",
        "    return t * np.exp(3 * t) - 2 * y\n",
        "\n",
        "t_a, y_a = euler(f_a, y0=0, t0=0, t_end=1, h=0.5)"
      ],
      "metadata": {
        "colab": {
          "base_uri": "https://localhost:8080/"
        },
        "id": "lk05ymgoSMRF",
        "outputId": "f7c4926f-248a-417e-c1fe-46325b2b8b80"
      },
      "execution_count": 9,
      "outputs": [
        {
          "output_type": "stream",
          "name": "stdout",
          "text": [
            "t = 0.00, y = 0.000000\n",
            "t = 0.50, y = 0.000000\n",
            "t = 1.00, y = 1.120422\n"
          ]
        }
      ]
    },
    {
      "cell_type": "markdown",
      "source": [
        "b) $y' = 1+{(t-y)}^2, 2 \\leq t \\leq 3 ,  y(2) = 1$, con $ h = 0.5 $"
      ],
      "metadata": {
        "id": "adxInsunS0AW"
      }
    },
    {
      "cell_type": "code",
      "source": [
        "def f_b(t, y):\n",
        "    return 1 + (t - y) ** 2\n",
        "\n",
        "t_b, y_b = euler(f_b, y0=1, t0=2, t_end=3, h=0.5)"
      ],
      "metadata": {
        "colab": {
          "base_uri": "https://localhost:8080/"
        },
        "id": "VPI1-w-lSO7S",
        "outputId": "edd477cd-c639-4b13-a514-33f278f4559b"
      },
      "execution_count": 10,
      "outputs": [
        {
          "output_type": "stream",
          "name": "stdout",
          "text": [
            "t = 2.00, y = 1.000000\n",
            "t = 2.50, y = 2.000000\n",
            "t = 3.00, y = 2.625000\n"
          ]
        }
      ]
    },
    {
      "cell_type": "markdown",
      "source": [
        "c) $y' = 1+y/t,1 \\leq t \\leq 2 ,  y(1) = 2$, con $ h = 0.25 $"
      ],
      "metadata": {
        "id": "W_ii7dmES2Ww"
      }
    },
    {
      "cell_type": "code",
      "source": [
        "def f_c(t, y):\n",
        "    return 1 + y / t\n",
        "\n",
        "t_c, y_c = euler(f_c, y0=2, t0=1, t_end=2, h=0.25)"
      ],
      "metadata": {
        "colab": {
          "base_uri": "https://localhost:8080/"
        },
        "id": "AsnTjodxSRpC",
        "outputId": "4d09f1ca-2c9c-41ba-ba33-e1dbe85a97f1"
      },
      "execution_count": 11,
      "outputs": [
        {
          "output_type": "stream",
          "name": "stdout",
          "text": [
            "t = 1.00, y = 2.000000\n",
            "t = 1.25, y = 2.750000\n",
            "t = 1.50, y = 3.550000\n",
            "t = 1.75, y = 4.391667\n",
            "t = 2.00, y = 5.269048\n"
          ]
        }
      ]
    },
    {
      "cell_type": "markdown",
      "source": [
        "d) $y' = cos(2t)+sen(3t) , 0 \\leq t \\leq 1 ,  y(0) = 1$, con $ h = 0.25 $"
      ],
      "metadata": {
        "id": "wRAkLkZbS3Ya"
      }
    },
    {
      "cell_type": "code",
      "source": [
        "def f_d(t, y):\n",
        "    return np.cos(2 * t) + np.sin(3 * t)\n",
        "\n",
        "t_d, y_d = euler(f_d, y0=1, t0=0, t_end=1, h=0.25)"
      ],
      "metadata": {
        "colab": {
          "base_uri": "https://localhost:8080/"
        },
        "id": "RFfvQcuCSWXI",
        "outputId": "d45e3026-d9b9-4b4f-f006-7281e57e4710"
      },
      "execution_count": 12,
      "outputs": [
        {
          "output_type": "stream",
          "name": "stdout",
          "text": [
            "t = 0.00, y = 1.000000\n",
            "t = 0.25, y = 1.250000\n",
            "t = 0.50, y = 1.639805\n",
            "t = 0.75, y = 2.024255\n",
            "t = 1.00, y = 2.236457\n"
          ]
        }
      ]
    },
    {
      "cell_type": "markdown",
      "source": [
        "**Literal 2**"
      ],
      "metadata": {
        "id": "jHqJaY1mWuD_"
      }
    },
    {
      "cell_type": "code",
      "source": [
        "def y_exact_a(t):\n",
        "    return (1/5) * t * np.exp(3*t) - (1/25) * np.exp(3*t) + (1/25) * np.exp(-2*t)\n",
        "\n",
        "def y_exact_b(t):\n",
        "    return t + 1 / (1 - t)\n",
        "\n",
        "def y_exact_c(t):\n",
        "    return t * np.log(t) + 2 * t\n",
        "\n",
        "def y_exact_d(t):\n",
        "    return (1/2) * np.sin(2*t) - (1/3) * np.cos(3*t) + 4/3"
      ],
      "metadata": {
        "id": "ytXqpGrHWSCV"
      },
      "execution_count": 16,
      "outputs": []
    },
    {
      "cell_type": "markdown",
      "source": [
        "a) $y(t)=1/5te^{3t}-1/25e^{3t}+1/25e^{-2t}$"
      ],
      "metadata": {
        "id": "xMLOdIi6WwQV"
      }
    },
    {
      "cell_type": "code",
      "source": [
        "def f_a(t, y):\n",
        "    return t * np.exp(3 * t) - 2 * y\n",
        "\n",
        "print(\"Comparación para el problema 2a:\")\n",
        "t_a, y_a = euler(f_a, y0=0, t0=0, t_end=1, h=0.5, y_exact_func=y_exact_a)"
      ],
      "metadata": {
        "colab": {
          "base_uri": "https://localhost:8080/"
        },
        "id": "GzPLatHcWZ67",
        "outputId": "aad3303f-7d62-4ce4-ac8d-64d5a6b1fdd9"
      },
      "execution_count": 20,
      "outputs": [
        {
          "output_type": "stream",
          "name": "stdout",
          "text": [
            "Comparación para el problema a:\n",
            "         t        y_approx         y_exact           error\n",
            "      0.50        0.000000        0.283617        0.283617\n",
            "      1.00        1.120422        3.219099        2.098677\n"
          ]
        }
      ]
    },
    {
      "cell_type": "markdown",
      "source": [
        "b) $y(t)=t+\\frac{1}{1-t}$"
      ],
      "metadata": {
        "id": "CICCkUtoW0wh"
      }
    },
    {
      "cell_type": "code",
      "source": [
        "def f_b(t, y):\n",
        "    return 1 + (t - y) ** 2\n",
        "\n",
        "print(\"Comparación para el problema 2b:\")\n",
        "t_b, y_b = euler(f_b, y0=1, t0=2, t_end=3, h=0.5, y_exact_func=y_exact_b)"
      ],
      "metadata": {
        "colab": {
          "base_uri": "https://localhost:8080/"
        },
        "id": "0F9FdXsqWgtm",
        "outputId": "5573931a-cc80-42b4-9695-9fc76ca67f92"
      },
      "execution_count": 21,
      "outputs": [
        {
          "output_type": "stream",
          "name": "stdout",
          "text": [
            "Comparación para el problema b:\n",
            "         t        y_approx         y_exact           error\n",
            "      2.50        2.000000        1.833333        0.166667\n",
            "      3.00        2.625000        2.500000        0.125000\n"
          ]
        }
      ]
    },
    {
      "cell_type": "markdown",
      "source": [
        "c) $y(t)=tln(t)+2t$"
      ],
      "metadata": {
        "id": "e-gYR_bKW3Y-"
      }
    },
    {
      "cell_type": "code",
      "source": [
        "def f_c(t, y):\n",
        "    return 1 + y / t\n",
        "\n",
        "print(\"Comparación para el problema 2c:\")\n",
        "t_c, y_c = euler(f_c, y0=2, t0=1, t_end=2, h=0.25, y_exact_func=y_exact_c)"
      ],
      "metadata": {
        "colab": {
          "base_uri": "https://localhost:8080/"
        },
        "id": "vkNapQ0gWkG8",
        "outputId": "73a22140-e6aa-4e27-981a-f54cac87b32d"
      },
      "execution_count": 22,
      "outputs": [
        {
          "output_type": "stream",
          "name": "stdout",
          "text": [
            "Comparación para el problema c:\n",
            "         t        y_approx         y_exact           error\n",
            "      1.25        2.750000        2.778929        0.028929\n",
            "      1.50        3.550000        3.608198        0.058198\n",
            "      1.75        4.391667        4.479328        0.087661\n",
            "      2.00        5.269048        5.386294        0.117247\n"
          ]
        }
      ]
    },
    {
      "cell_type": "markdown",
      "source": [
        "d) $y(t)=1/2sen(2t)-1/3cos(3t)+4/3$"
      ],
      "metadata": {
        "id": "e13dWWdfW8tZ"
      }
    },
    {
      "cell_type": "code",
      "source": [
        "def f_d(t, y):\n",
        "    return np.cos(2 * t) + np.sin(3 * t)\n",
        "\n",
        "print(\"Comparación para el problema 2d:\")\n",
        "t_d, y_d = euler(f_d, y0=1, t0=0, t_end=1, h=0.25, y_exact_func=y_exact_d)"
      ],
      "metadata": {
        "colab": {
          "base_uri": "https://localhost:8080/"
        },
        "id": "BmI14f3MWmNi",
        "outputId": "0ed460ac-850a-4a90-c730-b2886b31f2af"
      },
      "execution_count": 23,
      "outputs": [
        {
          "output_type": "stream",
          "name": "stdout",
          "text": [
            "Comparación para el problema d:\n",
            "         t        y_approx         y_exact           error\n",
            "      0.25        1.250000        1.329150        0.079150\n",
            "      0.50        1.639805        1.730490        0.090684\n",
            "      0.75        2.024255        2.041472        0.017217\n",
            "      1.00        2.236457        2.117980        0.118478\n"
          ]
        }
      ]
    },
    {
      "cell_type": "markdown",
      "source": [
        "**Literal 3**"
      ],
      "metadata": {
        "id": "oT-YFUUaYjfN"
      }
    },
    {
      "cell_type": "markdown",
      "source": [
        "a) $y' = y/t-(y/t)^2, 1 \\leq t \\leq 2 ,  y(1) = 1$, con $ h = 0.1$"
      ],
      "metadata": {
        "id": "mDuwVotbYmNq"
      }
    },
    {
      "cell_type": "code",
      "source": [
        "def f_a(t, y):\n",
        "    return y/t - (y/t)**2\n",
        "\n",
        "print(\"Solución para el problema a:\")\n",
        "t_a, y_a = euler(f_a, y0=1, t0=1, t_end=2, h=0.1)"
      ],
      "metadata": {
        "colab": {
          "base_uri": "https://localhost:8080/"
        },
        "id": "R1eBOMKaYQXJ",
        "outputId": "e4c6cb68-0050-4298-df62-466b9471ff31"
      },
      "execution_count": 26,
      "outputs": [
        {
          "output_type": "stream",
          "name": "stdout",
          "text": [
            "Solución para el problema a:\n",
            "         t        y_approx\n",
            "      1.00        1.000000\n",
            "      1.10        1.000000\n",
            "      1.20        1.008264\n",
            "      1.30        1.021689\n",
            "      1.40        1.038515\n",
            "      1.50        1.057668\n",
            "      1.60        1.078461\n",
            "      1.70        1.100432\n",
            "      1.80        1.123262\n",
            "      1.90        1.146724\n",
            "      2.00        1.170652\n"
          ]
        }
      ]
    },
    {
      "cell_type": "markdown",
      "source": [
        "b) $y' = 1+y/t+(y/t)^2, 1 \\leq t \\leq 3 ,  y(1) = 0$, con $ h = 0.2 $"
      ],
      "metadata": {
        "id": "mnDUJevVYqMJ"
      }
    },
    {
      "cell_type": "code",
      "source": [
        "def f_b(t, y):\n",
        "    return 1 + y/t + (y/t)**2\n",
        "\n",
        "print(\"Solución para el problema b:\")\n",
        "t_b, y_b = euler(f_b, y0=0, t0=1, t_end=3, h=0.2)"
      ],
      "metadata": {
        "colab": {
          "base_uri": "https://localhost:8080/"
        },
        "id": "uQyeFaRYYYiQ",
        "outputId": "7940c47b-1eb3-48a7-ec41-2099bb1cd830"
      },
      "execution_count": 27,
      "outputs": [
        {
          "output_type": "stream",
          "name": "stdout",
          "text": [
            "Solución para el problema b:\n",
            "         t        y_approx\n",
            "      1.00        0.000000\n",
            "      1.20        0.200000\n",
            "      1.40        0.438889\n",
            "      1.60        0.721243\n",
            "      1.80        1.052038\n",
            "      2.00        1.437251\n",
            "      2.20        1.884261\n",
            "      2.40        2.402270\n",
            "      2.60        3.002837\n",
            "      2.80        3.700601\n",
            "      3.00        4.514277\n"
          ]
        }
      ]
    },
    {
      "cell_type": "markdown",
      "source": [
        "c) $y' = -(y+1)(y+3), 0 \\leq t \\leq 2 ,  y(0) = -2$, con $ h = 0.2 $"
      ],
      "metadata": {
        "id": "_YUlkq4JYsnK"
      }
    },
    {
      "cell_type": "code",
      "source": [
        "def f_c(t, y):\n",
        "    return -(y + 1)*(y + 3)\n",
        "\n",
        "print(\"Solución para el problema c:\")\n",
        "t_c, y_c = euler(f_c, y0=-2, t0=0, t_end=2, h=0.2)"
      ],
      "metadata": {
        "colab": {
          "base_uri": "https://localhost:8080/"
        },
        "id": "pApcZMO9Ya0X",
        "outputId": "4ac9d91e-91aa-45d8-8ed1-b82455225e67"
      },
      "execution_count": 28,
      "outputs": [
        {
          "output_type": "stream",
          "name": "stdout",
          "text": [
            "Solución para el problema c:\n",
            "         t        y_approx\n",
            "      0.00       -2.000000\n",
            "      0.20       -1.800000\n",
            "      0.40       -1.608000\n",
            "      0.60       -1.438733\n",
            "      0.80       -1.301737\n",
            "      1.00       -1.199251\n",
            "      1.20       -1.127491\n",
            "      1.40       -1.079745\n",
            "      1.60       -1.049119\n",
            "      1.80       -1.029954\n",
            "      2.00       -1.018152\n"
          ]
        }
      ]
    },
    {
      "cell_type": "markdown",
      "source": [
        "d) $y' = -5y+5t^2+2t, 0 \\leq t \\leq 1 ,  y(0) = 1/3$, con $ h = 0.1 $"
      ],
      "metadata": {
        "id": "aB95cbilYvKB"
      }
    },
    {
      "cell_type": "code",
      "source": [
        "def f_d(t, y):\n",
        "    return -5*y + 5*t**2 + 2*t\n",
        "\n",
        "print(\"Solución para el problema d:\")\n",
        "t_d, y_d = euler(f_d, y0=1/2, t0=0, t_end=1, h=0.1)"
      ],
      "metadata": {
        "colab": {
          "base_uri": "https://localhost:8080/"
        },
        "id": "a1i_Jv87YdA7",
        "outputId": "4ec4dc6f-be9b-4018-be09-52164cb31025"
      },
      "execution_count": 29,
      "outputs": [
        {
          "output_type": "stream",
          "name": "stdout",
          "text": [
            "Solución para el problema d:\n",
            "         t        y_approx\n",
            "      0.00        0.500000\n",
            "      0.10        0.250000\n",
            "      0.20        0.150000\n",
            "      0.30        0.135000\n",
            "      0.40        0.172500\n",
            "      0.50        0.246250\n",
            "      0.60        0.348125\n",
            "      0.70        0.474063\n",
            "      0.80        0.622031\n",
            "      0.90        0.791016\n",
            "      1.00        0.980508\n"
          ]
        }
      ]
    },
    {
      "cell_type": "markdown",
      "source": [
        "**Literal 4**"
      ],
      "metadata": {
        "id": "E49AKPd-ZhWa"
      }
    },
    {
      "cell_type": "code",
      "source": [
        "def y_exact_a(t):\n",
        "    return t / (1 + np.log(t))\n",
        "\n",
        "def y_exact_b(t):\n",
        "    return t * np.tan(np.log(t))\n",
        "\n",
        "def y_exact_c(t):\n",
        "    return -3 + 2 / (1 + np.exp(-2 * t))\n",
        "\n",
        "def y_exact_d(t):\n",
        "    return t**2 + (1/3) * np.exp(-5 * t)"
      ],
      "metadata": {
        "id": "NXj-_vicZjWa"
      },
      "execution_count": 30,
      "outputs": []
    },
    {
      "cell_type": "markdown",
      "source": [
        "a) $y(t)=\\frac{t}{1+lnt}$"
      ],
      "metadata": {
        "id": "k8-MztbXZzHc"
      }
    },
    {
      "cell_type": "code",
      "source": [
        "def f_a(t, y):\n",
        "    return y/t - (y/t)**2\n",
        "\n",
        "print(\"Comparación para el problema a:\")\n",
        "t_a, y_a = euler(f_a, y0=1, t0=1, t_end=2, h=0.1, y_exact_func=y_exact_a)"
      ],
      "metadata": {
        "colab": {
          "base_uri": "https://localhost:8080/"
        },
        "id": "7-Pm13J8ZpBt",
        "outputId": "513c34f1-99e0-4008-c86b-c92c8b16df3f"
      },
      "execution_count": 56,
      "outputs": [
        {
          "output_type": "stream",
          "name": "stdout",
          "text": [
            "Comparación para el problema a:\n",
            "         t        y_approx         y_exact           error\n",
            "      1.10        1.000000        1.004282        0.004282\n",
            "      1.20        1.008264        1.014952        0.006688\n",
            "      1.30        1.021689        1.029814        0.008124\n",
            "      1.40        1.038515        1.047534        0.009019\n",
            "      1.50        1.057668        1.067262        0.009594\n",
            "      1.60        1.078461        1.088433        0.009972\n",
            "      1.70        1.100432        1.110655        0.010223\n",
            "      1.80        1.123262        1.133654        0.010392\n",
            "      1.90        1.146724        1.157228        0.010505\n",
            "      2.00        1.170652        1.181232        0.010581\n"
          ]
        }
      ]
    },
    {
      "cell_type": "markdown",
      "source": [
        "b) $y(t)=t *tan(ln t)$"
      ],
      "metadata": {
        "id": "zOp8hOvLZ1GB"
      }
    },
    {
      "cell_type": "code",
      "source": [
        "def f_b(t, y):\n",
        "    return 1 + y/t + (y/t)**2\n",
        "\n",
        "print(\"Comparación para el problema b:\")\n",
        "t_b, y_b = euler(f_b, y0=0, t0=1, t_end=3, h=0.2, y_exact_func=y_exact_b)"
      ],
      "metadata": {
        "colab": {
          "base_uri": "https://localhost:8080/"
        },
        "id": "Yk8sQbYnZrxp",
        "outputId": "5e187232-ce7d-4570-f5d3-a2d89ea5ba62"
      },
      "execution_count": 33,
      "outputs": [
        {
          "output_type": "stream",
          "name": "stdout",
          "text": [
            "Comparación para el problema b:\n",
            "         t        y_approx         y_exact           error\n",
            "      1.20        0.200000        0.221243        0.021243\n",
            "      1.40        0.438889        0.489682        0.050793\n",
            "      1.60        0.721243        0.812753        0.091510\n",
            "      1.80        1.052038        1.199439        0.147401\n",
            "      2.00        1.437251        1.661282        0.224031\n",
            "      2.20        1.884261        2.213502        0.329241\n",
            "      2.40        2.402270        2.876551        0.474282\n",
            "      2.60        3.002837        3.678475        0.675638\n",
            "      2.80        3.700601        4.658665        0.958064\n",
            "      3.00        4.514277        5.874100        1.359823\n"
          ]
        }
      ]
    },
    {
      "cell_type": "markdown",
      "source": [
        "c) $y(t)=-3+\\frac{2}{1+e^{-2t}}$"
      ],
      "metadata": {
        "id": "jdHeT6zSZ30L"
      }
    },
    {
      "cell_type": "code",
      "source": [
        "def f_c(t, y):\n",
        "    return -(y + 1)*(y + 3)\n",
        "\n",
        "print(\"Comparación para el problema c:\")\n",
        "t_c, y_c = euler(f_c, y0=-2, t0=0, t_end=2, h=0.2, y_exact_func=y_exact_c)"
      ],
      "metadata": {
        "colab": {
          "base_uri": "https://localhost:8080/"
        },
        "id": "G_LXJwfiZtoY",
        "outputId": "1c35f2b8-ce4a-49ed-eb89-4348072f4a77"
      },
      "execution_count": 34,
      "outputs": [
        {
          "output_type": "stream",
          "name": "stdout",
          "text": [
            "Comparación para el problema c:\n",
            "         t        y_approx         y_exact           error\n",
            "      0.20       -1.800000       -1.802625        0.002625\n",
            "      0.40       -1.608000       -1.620051        0.012051\n",
            "      0.60       -1.438733       -1.462950        0.024218\n",
            "      0.80       -1.301737       -1.335963        0.034226\n",
            "      1.00       -1.199251       -1.238406        0.039155\n",
            "      1.20       -1.127491       -1.166345        0.038854\n",
            "      1.40       -1.079745       -1.114648        0.034903\n",
            "      1.60       -1.049119       -1.078331        0.029212\n",
            "      1.80       -1.029954       -1.053194        0.023240\n",
            "      2.00       -1.018152       -1.035972        0.017821\n"
          ]
        }
      ]
    },
    {
      "cell_type": "markdown",
      "source": [
        "d) $y(t)=t^2+\\frac{1}{3}e^{-5t}$"
      ],
      "metadata": {
        "id": "E0wSqSbXZ6sJ"
      }
    },
    {
      "cell_type": "code",
      "source": [
        "def f_d(t, y):\n",
        "    return -5*y + 5*t**2 + 2*t\n",
        "\n",
        "print(\"Comparación para el problema d:\")\n",
        "t_d, y_d = euler(f_d, y0=1/2, t0=0, t_end=1, h=0.1, y_exact_func=y_exact_d)"
      ],
      "metadata": {
        "colab": {
          "base_uri": "https://localhost:8080/"
        },
        "id": "xXcXrkxXZvM2",
        "outputId": "8a955a2b-f524-4163-b339-3391a7b25647"
      },
      "execution_count": 35,
      "outputs": [
        {
          "output_type": "stream",
          "name": "stdout",
          "text": [
            "Comparación para el problema d:\n",
            "         t        y_approx         y_exact           error\n",
            "      0.10        0.250000        0.212177        0.037823\n",
            "      0.20        0.150000        0.162626        0.012626\n",
            "      0.30        0.135000        0.164377        0.029377\n",
            "      0.40        0.172500        0.205112        0.032612\n",
            "      0.50        0.246250        0.277362        0.031112\n",
            "      0.60        0.348125        0.376596        0.028471\n",
            "      0.70        0.474063        0.500066        0.026003\n",
            "      0.80        0.622031        0.646105        0.024074\n",
            "      0.90        0.791016        0.813703        0.022687\n",
            "      1.00        0.980508        1.002246        0.021738\n"
          ]
        }
      ]
    },
    {
      "cell_type": "markdown",
      "source": [
        "**Literal 5**"
      ],
      "metadata": {
        "id": "SvNGcRhHampG"
      }
    },
    {
      "cell_type": "markdown",
      "source": [],
      "metadata": {
        "id": "9-bCSiSCd2rp"
      }
    },
    {
      "cell_type": "code",
      "source": [
        "def interpolacion_lineal(t_values, y_values, t):\n",
        "    for i in range(1, len(t_values)):\n",
        "        if t_values[i-1] <= t <= t_values[i]:\n",
        "            y_interp = y_values[i-1] + (t - t_values[i-1]) * (y_values[i] - y_values[i-1]) / (t_values[i] - t_values[i-1])\n",
        "            return y_interp\n",
        "    return None"
      ],
      "metadata": {
        "id": "29Y7Pl85eZgV"
      },
      "execution_count": 81,
      "outputs": []
    },
    {
      "cell_type": "code",
      "source": [
        "puntos_a = [1.25, 1.93]\n",
        "puntos_b = [1.25, 1.93]\n",
        "puntos_c = [1.3, 1.93]\n",
        "puntos_d = [0.54, 0.94]"
      ],
      "metadata": {
        "id": "RjQzCmjteRfd"
      },
      "execution_count": 79,
      "outputs": []
    },
    {
      "cell_type": "markdown",
      "source": [
        "a) $y(0.25)$ y $y(0.93)$"
      ],
      "metadata": {
        "id": "3tzAZiZIezrw"
      }
    },
    {
      "cell_type": "code",
      "source": [
        "for t in puntos_a:\n",
        "    y_interp = interpolacion_lineal(t_a, y_a, t)\n",
        "    y_real = y_exact_a(t)\n",
        "    print(f\"a) y({t:.2f}) = {y_interp:.6f} (aprox), {y_real:.6f} (real), Error: {abs(y_interp - y_real):.6f}\")"
      ],
      "metadata": {
        "colab": {
          "base_uri": "https://localhost:8080/"
        },
        "id": "sthru23teTGz",
        "outputId": "0b0e17c0-7bd6-4ee1-9d96-15b5ef23460a"
      },
      "execution_count": 72,
      "outputs": [
        {
          "output_type": "stream",
          "name": "stdout",
          "text": [
            "a) y(1.25) = 1.014977 (aprox), 1.021957 (real), Error: 0.006980\n",
            "a) y(1.93) = 1.153902 (aprox), 1.164390 (real), Error: 0.010488\n"
          ]
        }
      ]
    },
    {
      "cell_type": "markdown",
      "source": [
        "b) $y(t)=y(1.25)$ y $y(1.93)$"
      ],
      "metadata": {
        "id": "gh0GAcHTe2_G"
      }
    },
    {
      "cell_type": "code",
      "source": [
        "for t in puntos_b:\n",
        "    y_interp = interpolacion_lineal(t_b, y_b, t)\n",
        "    y_real = y_exact_b(t)\n",
        "    print(f\"b) y({t:.2f}) = {y_interp:.6f} (aprox), {y_real:.6f} (real), Error: {abs(y_interp - y_real):.6f}\")"
      ],
      "metadata": {
        "colab": {
          "base_uri": "https://localhost:8080/"
        },
        "id": "Pvpw8fe4egdB",
        "outputId": "b9632e47-4124-423e-f865-12c481ecca8e"
      },
      "execution_count": 74,
      "outputs": [
        {
          "output_type": "stream",
          "name": "stdout",
          "text": [
            "b) y(1.25) = 0.259722 (aprox), 0.283653 (real), Error: 0.023931\n",
            "b) y(1.93) = 1.302427 (aprox), 1.490228 (real), Error: 0.187801\n"
          ]
        }
      ]
    },
    {
      "cell_type": "markdown",
      "source": [
        "c) $y(2.10)$ y $y(2.75)$"
      ],
      "metadata": {
        "id": "dncAU3Awe41K"
      }
    },
    {
      "cell_type": "code",
      "source": [
        "for t in puntos_c:\n",
        "    y_interp = interpolacion_lineal(t_c, y_c, t)\n",
        "    y_real = y_exact_c(t)\n",
        "    print(f\"c) y({t:.2f}) = {y_interp:.6f} (aprox), {y_real:.6f} (real), Error: {abs(y_interp - y_real):.6f}\")"
      ],
      "metadata": {
        "colab": {
          "base_uri": "https://localhost:8080/"
        },
        "id": "xEMFIKFHek7m",
        "outputId": "897b0dfd-1f78-4d15-d961-22745d97806b"
      },
      "execution_count": 80,
      "outputs": [
        {
          "output_type": "stream",
          "name": "stdout",
          "text": [
            "c) y(1.30) = -1.103618 (aprox), -1.138277 (real), Error: 0.034659\n",
            "c) y(1.93) = -1.022283 (aprox), -1.041267 (real), Error: 0.018984\n"
          ]
        }
      ]
    },
    {
      "cell_type": "markdown",
      "source": [
        "d) $y(t)=y(0.54)$ y $y(0.94)$"
      ],
      "metadata": {
        "id": "RnKdmQKme6fI"
      }
    },
    {
      "cell_type": "code",
      "source": [
        "for t in puntos_d:\n",
        "    y_interp = interpolacion_lineal(t_d, y_d, t)\n",
        "    y_real = y_exact_d(t)\n",
        "    print(f\"d) y({t:.2f}) = {y_interp:.6f} (aprox), {y_real:.6f} (real), Error: {abs(y_interp - y_real):.6f}\")"
      ],
      "metadata": {
        "colab": {
          "base_uri": "https://localhost:8080/"
        },
        "id": "E7uL5X3NepHs",
        "outputId": "63865237-32f1-4c94-995d-6c1b6d3dacde"
      },
      "execution_count": 78,
      "outputs": [
        {
          "output_type": "stream",
          "name": "stdout",
          "text": [
            "d) y(0.54) = 0.287000 (aprox), 0.314002 (real), Error: 0.027002\n",
            "d) y(0.94) = 0.866813 (aprox), 0.886632 (real), Error: 0.019819\n"
          ]
        }
      ]
    },
    {
      "cell_type": "markdown",
      "source": [
        "**Literal 6**"
      ],
      "metadata": {
        "id": "fXuIvz5wfIc2"
      }
    },
    {
      "cell_type": "code",
      "source": [
        "def taylor_second_order(f, f_t, t0, y0, h, t_end):\n",
        "    t_values = np.arange(t0, t_end + h, h)\n",
        "    y_values = np.zeros_like(t_values)\n",
        "    y_values[0] = y0\n",
        "\n",
        "    for i in range(1, len(t_values)):\n",
        "        t = t_values[i-1]\n",
        "        y = y_values[i-1]\n",
        "        y_values[i] = y + h * f(t, y) + (h**2 / 2) * f_t(t, y)\n",
        "\n",
        "    return t_values, y_values"
      ],
      "metadata": {
        "id": "OkXGq5UIflZb"
      },
      "execution_count": 82,
      "outputs": []
    },
    {
      "cell_type": "markdown",
      "source": [
        "a) $y' = te^{3t}-2y, 0 \\leq t \\leq 1 ,  y(0) = 0$, con $ h = 0.5 $"
      ],
      "metadata": {
        "id": "8QtBQFWmfXYp"
      }
    },
    {
      "cell_type": "code",
      "source": [
        "def f_a(t, y):\n",
        "    return t * np.exp(3 * t) - 2 * y\n",
        "\n",
        "def f_t_a(t, y):\n",
        "    return (np.exp(3 * t) * (3 * t + 1)) - 2 * (t * np.exp(3 * t) - 2 * y)\n",
        "\n",
        "t_values, y_values = taylor_second_order(f_a, f_t_a, t0=0, y0=0, h=0.5, t_end=1)\n",
        "print(\"Solution for part a:\")\n",
        "print(t_values, y_values)"
      ],
      "metadata": {
        "colab": {
          "base_uri": "https://localhost:8080/"
        },
        "id": "g-H50CaYfXKY",
        "outputId": "7d3df661-61ae-4c4e-a317-7834f6627636"
      },
      "execution_count": 83,
      "outputs": [
        {
          "output_type": "stream",
          "name": "stdout",
          "text": [
            "Solution for part a:\n",
            "[0.  0.5 1. ] [0.         0.125      2.02323897]\n"
          ]
        }
      ]
    },
    {
      "cell_type": "markdown",
      "source": [
        "b) $y' =1+(t-y)^2,2 \\leq t \\leq 3,  y(2) = 1$, con $ h = 0.5$"
      ],
      "metadata": {
        "id": "n4UIl99EfaAt"
      }
    },
    {
      "cell_type": "code",
      "source": [
        "def f_b(t, y):\n",
        "    return 1 + (t - y)**2\n",
        "\n",
        "def f_t_b(t, y):\n",
        "    return 2 * (t - y) - 2 * (1 + (t - y)**2)\n",
        "\n",
        "t_values, y_values = taylor_second_order(f_b, f_t_b, t0=2, y0=1, h=0.5, t_end=3)\n",
        "print(\"Solution for part b:\")\n",
        "print(t_values, y_values)"
      ],
      "metadata": {
        "colab": {
          "base_uri": "https://localhost:8080/"
        },
        "id": "ypBZsBrAfcgE",
        "outputId": "04777a26-8863-4506-abd6-dafce638439a"
      },
      "execution_count": 84,
      "outputs": [
        {
          "output_type": "stream",
          "name": "stdout",
          "text": [
            "Solution for part b:\n",
            "[2.  2.5 3. ] [1.       1.75     2.328125]\n"
          ]
        }
      ]
    },
    {
      "cell_type": "markdown",
      "source": [
        "c) $y' = 1+y/t, 1 \\leq t \\leq 2 ,  y(1) = 2$, con $ h = 0.25$"
      ],
      "metadata": {
        "id": "lzNJowe5feLE"
      }
    },
    {
      "cell_type": "code",
      "source": [
        "def f_c(t, y):\n",
        "    return 1 + y/t\n",
        "\n",
        "def f_t_c(t, y):\n",
        "    return -y / t**2 + (1 + y/t) / t\n",
        "\n",
        "t_values, y_values = taylor_second_order(f_c, f_t_c, t0=1, y0=2, h=0.25, t_end=2)\n",
        "print(\"Solution for part c:\")\n",
        "print(t_values, y_values)"
      ],
      "metadata": {
        "colab": {
          "base_uri": "https://localhost:8080/"
        },
        "id": "PFKcjeQXfe4u",
        "outputId": "02d4f11f-1c7b-49ef-8ce0-c6a9116dd971"
      },
      "execution_count": 85,
      "outputs": [
        {
          "output_type": "stream",
          "name": "stdout",
          "text": [
            "Solution for part c:\n",
            "[1.   1.25 1.5  1.75 2.  ] [2.         2.78125    3.6125     4.48541667 5.39404762]\n"
          ]
        }
      ]
    },
    {
      "cell_type": "markdown",
      "source": [
        "d) $y' = cos(2t)+sen(3t), 0 \\leq t \\leq 1 ,  y(0) = 1$, con $ h = 0.25 $"
      ],
      "metadata": {
        "id": "viuW3dIafgx7"
      }
    },
    {
      "cell_type": "code",
      "source": [
        "def f_d(t, y):\n",
        "    return np.cos(2*t) + np.sin(3*t)\n",
        "\n",
        "def f_t_d(t, y):\n",
        "    return -2*np.sin(2*t) + 3*np.cos(3*t)\n",
        "\n",
        "t_values, y_values = taylor_second_order(f_d, f_t_d, t0=0, y0=1, h=0.25, t_end=1)\n",
        "print(\"Solution for part d:\")\n",
        "print(t_values, y_values)"
      ],
      "metadata": {
        "colab": {
          "base_uri": "https://localhost:8080/"
        },
        "id": "ovbLEmkSfhUW",
        "outputId": "2723ee10-645b-4be4-d385-f81db5ae0973"
      },
      "execution_count": 86,
      "outputs": [
        {
          "output_type": "stream",
          "name": "stdout",
          "text": [
            "Solution for part d:\n",
            "[0.   0.25 0.5  0.75 1.  ] [1.         1.34375    1.77218707 2.11067606 2.20164395]\n"
          ]
        }
      ]
    },
    {
      "cell_type": "markdown",
      "source": [
        "**Literal 7**"
      ],
      "metadata": {
        "id": "jCW4hz64fzxu"
      }
    },
    {
      "cell_type": "code",
      "source": [
        "def taylor_fourth_order(f, f_t, f_tt, f_ttt, t0, y0, h, t_end):\n",
        "    t_values = np.arange(t0, t_end + h, h)\n",
        "    y_values = np.zeros_like(t_values)\n",
        "    y_values[0] = y0\n",
        "\n",
        "    for i in range(1, len(t_values)):\n",
        "        t = t_values[i-1]\n",
        "        y = y_values[i-1]\n",
        "        y_values[i] = y + h * f(t, y) + (h**2 / 2) * f_t(t, y) + (h**3 / 6) * f_tt(t, y) + (h**4 / 24) * f_ttt(t, y)\n",
        "\n",
        "    return t_values, y_values"
      ],
      "metadata": {
        "id": "RzGRoS65f2Mt"
      },
      "execution_count": 87,
      "outputs": []
    },
    {
      "cell_type": "markdown",
      "source": [
        "a) $y' = te^{3t}-2y, 0 \\leq t \\leq 1 ,  y(0) = 0$, con $ h = 0.5 $"
      ],
      "metadata": {
        "id": "8UXEZC9dgFJj"
      }
    },
    {
      "cell_type": "code",
      "source": [
        "def f_a(t, y):\n",
        "    return t * np.exp(3 * t) - 2 * y\n",
        "\n",
        "def f_t_a(t, y):\n",
        "    return np.exp(3 * t) * (3 * t + 1) - 2 * (t * np.exp(3 * t) - 2 * y)\n",
        "\n",
        "def f_tt_a(t, y):\n",
        "    return np.exp(3 * t) * (9 * t + 6) - 2 * np.exp(3 * t) * (3 * t + 1)\n",
        "\n",
        "def f_ttt_a(t, y):\n",
        "    return np.exp(3 * t) * (27 * t + 27) - 2 * np.exp(3 * t) * (9 * t + 6)\n",
        "\n",
        "t_values, y_values = taylor_fourth_order(f_a, f_t_a, f_tt_a, f_ttt_a, t0=0, y0=0, h=0.5, t_end=1)\n",
        "print(\"Solución para la parte a:\")\n",
        "print(t_values, y_values)"
      ],
      "metadata": {
        "colab": {
          "base_uri": "https://localhost:8080/"
        },
        "id": "uOldCzj4f-3X",
        "outputId": "3664de9d-1894-4e22-a61e-65146b65bbfa"
      },
      "execution_count": 88,
      "outputs": [
        {
          "output_type": "stream",
          "name": "stdout",
          "text": [
            "Solución para la parte a:\n",
            "[0.  0.5 1. ] [0.         0.24739583 2.82554953]\n"
          ]
        }
      ]
    },
    {
      "cell_type": "markdown",
      "source": [
        "b) $y' =1+(t-y)^2,2 \\leq t \\leq 3,  y(2) = 1$, con $ h = 0.5$"
      ],
      "metadata": {
        "id": "qyIhQoEugFqk"
      }
    },
    {
      "cell_type": "code",
      "source": [
        "def f_b(t, y):\n",
        "    return 1 + (t - y)**2\n",
        "\n",
        "def f_t_b(t, y):\n",
        "    return 2 * (t - y)\n",
        "\n",
        "def f_tt_b(t, y):\n",
        "    return 2\n",
        "\n",
        "def f_ttt_b(t, y):\n",
        "    return 0\n",
        "\n",
        "t_values, y_values = taylor_fourth_order(f_b, f_t_b, f_tt_b, f_ttt_b, t0=2, y0=1, h=0.5, t_end=3)\n",
        "print(\"Solución para la parte b:\")\n",
        "print(t_values, y_values)"
      ],
      "metadata": {
        "colab": {
          "base_uri": "https://localhost:8080/"
        },
        "id": "Bi6X2-DjgA4j",
        "outputId": "e427442a-b7eb-4e54-d784-d0dbfed1fdd4"
      },
      "execution_count": 89,
      "outputs": [
        {
          "output_type": "stream",
          "name": "stdout",
          "text": [
            "Solución para la parte b:\n",
            "[2.  2.5 3. ] [1.         2.29166667 2.90711806]\n"
          ]
        }
      ]
    },
    {
      "cell_type": "markdown",
      "source": [
        "c) $y' = 1+y/t, 1 \\leq t \\leq 2 ,  y(1) = 2$, con $ h = 0.25$"
      ],
      "metadata": {
        "id": "Bh3212QPgGp9"
      }
    },
    {
      "cell_type": "code",
      "source": [
        "def f_c(t, y):\n",
        "    return 1 + y/t\n",
        "\n",
        "def f_t_c(t, y):\n",
        "    return -y/t**2\n",
        "\n",
        "def f_tt_c(t, y):\n",
        "    return 2 * y / t**3\n",
        "\n",
        "def f_ttt_c(t, y):\n",
        "    return -6 * y / t**4\n",
        "\n",
        "t_values, y_values = taylor_fourth_order(f_c, f_t_c, f_tt_c, f_ttt_c, t0=1, y0=2, h=0.25, t_end=2)\n",
        "print(\"Solución para la parte c:\")\n",
        "print(t_values, y_values)"
      ],
      "metadata": {
        "colab": {
          "base_uri": "https://localhost:8080/"
        },
        "id": "uU9kElrDgCiK",
        "outputId": "0fb3b589-ae68-46c7-a439-c960d141f939"
      },
      "execution_count": 90,
      "outputs": [
        {
          "output_type": "stream",
          "name": "stdout",
          "text": [
            "Solución para la parte c:\n",
            "[1.   1.25 1.5  1.75 2.  ] [2.         2.69596354 3.43734783 4.21713967 5.03021535]\n"
          ]
        }
      ]
    },
    {
      "cell_type": "markdown",
      "source": [
        "d) $y' = cos(2t)+sen(3t), 0 \\leq t \\leq 1 ,  y(0) = 1$, con $ h = 0.25 $"
      ],
      "metadata": {
        "id": "uDKwWn1UgHKw"
      }
    },
    {
      "cell_type": "code",
      "source": [
        "def f_d(t, y):\n",
        "    return np.cos(2*t) + np.sin(3*t)\n",
        "\n",
        "def f_t_d(t, y):\n",
        "    return -2 * np.sin(2*t) + 3 * np.cos(3*t)\n",
        "\n",
        "def f_tt_d(t, y):\n",
        "    return -4 * np.cos(2*t) - 9 * np.sin(3*t)\n",
        "\n",
        "def f_ttt_d(t, y):\n",
        "    return 8 * np.sin(2*t) - 27 * np.cos(3*t)\n",
        "\n",
        "t_values, y_values = taylor_fourth_order(f_d, f_t_d, f_tt_d, f_ttt_d, t0=0, y0=1, h=0.25, t_end=1)\n",
        "print(\"Solución para la parte d:\")\n",
        "print(t_values, y_values)"
      ],
      "metadata": {
        "colab": {
          "base_uri": "https://localhost:8080/"
        },
        "id": "1Iz22d4ugEAM",
        "outputId": "8fc5e024-a989-45dd-a370-cd1740c6cf8f"
      },
      "execution_count": 91,
      "outputs": [
        {
          "output_type": "stream",
          "name": "stdout",
          "text": [
            "Solución para la parte d:\n",
            "[0.   0.25 0.5  0.75 1.  ] [1.         1.3289388  1.7296673  2.03993417 2.11598847]\n"
          ]
        }
      ]
    }
  ]
}